{
  "nbformat": 4,
  "nbformat_minor": 0,
  "metadata": {
    "colab": {
      "provenance": [],
      "authorship_tag": "ABX9TyNKSQjAAcVz024CdB+r7TVa",
      "include_colab_link": true
    },
    "kernelspec": {
      "name": "python3",
      "display_name": "Python 3"
    },
    "language_info": {
      "name": "python"
    }
  },
  "cells": [
    {
      "cell_type": "markdown",
      "metadata": {
        "id": "view-in-github",
        "colab_type": "text"
      },
      "source": [
        "<a href=\"https://colab.research.google.com/github/MatheusHenriqueOliveira/DataFrame/blob/main/Funcionarios_Matheus_D3.ipynb\" target=\"_parent\"><img src=\"https://colab.research.google.com/assets/colab-badge.svg\" alt=\"Open In Colab\"/></a>"
      ]
    },
    {
      "cell_type": "code",
      "execution_count": 28,
      "metadata": {
        "colab": {
          "base_uri": "https://localhost:8080/"
        },
        "id": "mORnfjeSXIvz",
        "outputId": "e2ef5983-35cd-4554-e80d-b79487cfcc1d"
      },
      "outputs": [
        {
          "output_type": "stream",
          "name": "stdout",
          "text": [
            "     Nome       Cargo  Idade  Salário    Departamento  Experiência (anos)\n",
            "0     Ana     Gerente     35     5000              RH                   8\n",
            "1    Beto    Analista     28     3500              TI                   4\n",
            "2   Carla    Analista     30     3500              TI                   6\n",
            "3  Daniel  Assistente     25     2500  Administrativo                   2\n",
            "4     Eva     Gerente     40     5500              RH                  10\n",
            "5   Fábio    Analista     32     3800              TI                   5\n"
          ]
        }
      ],
      "source": [
        "import pandas as pd\n",
        "\n",
        "dados = {\n",
        "    'Nome': ['Ana', 'Beto', 'Carla', 'Daniel', 'Eva', 'Fábio'],\n",
        "    'Cargo': ['Gerente', 'Analista', 'Analista', 'Assistente', 'Gerente', 'Analista'],\n",
        "    'Idade': [35, 28, 30, 25, 40, 32],\n",
        "    'Salário': [5000, 3500, 3500, 2500, 5500, 3800],\n",
        "    'Departamento': ['RH', 'TI', 'TI', 'Administrativo', 'RH', 'TI'],\n",
        "    'Experiência (anos)': [8, 4, 6, 2, 10, 5]\n",
        "}\n",
        "\n",
        "funcionarios_empresa = pd.DataFrame(dados)\n",
        "\n",
        "print(funcionarios_empresa)"
      ]
    },
    {
      "cell_type": "code",
      "source": [
        "print('1) Base de dados: \\n', funcionarios_empresa)"
      ],
      "metadata": {
        "colab": {
          "base_uri": "https://localhost:8080/"
        },
        "id": "q7Lg8f8MXq50",
        "outputId": "06dae188-e96a-496d-b585-c1f936f22985"
      },
      "execution_count": 29,
      "outputs": [
        {
          "output_type": "stream",
          "name": "stdout",
          "text": [
            "1) Base de dados: \n",
            "      Nome       Cargo  Idade  Salário    Departamento  Experiência (anos)\n",
            "0     Ana     Gerente     35     5000              RH                   8\n",
            "1    Beto    Analista     28     3500              TI                   4\n",
            "2   Carla    Analista     30     3500              TI                   6\n",
            "3  Daniel  Assistente     25     2500  Administrativo                   2\n",
            "4     Eva     Gerente     40     5500              RH                  10\n",
            "5   Fábio    Analista     32     3800              TI                   5\n"
          ]
        }
      ]
    },
    {
      "cell_type": "code",
      "source": [
        "print(\"2) Tamanho do dataframe: \\n\", funcionarios_empresa.shape)"
      ],
      "metadata": {
        "colab": {
          "base_uri": "https://localhost:8080/"
        },
        "id": "OXm-FdZGX9pu",
        "outputId": "80d5da71-0449-444b-c521-8d6c4a1cabd8"
      },
      "execution_count": 30,
      "outputs": [
        {
          "output_type": "stream",
          "name": "stdout",
          "text": [
            "2) Tamanho do dataframe: \n",
            " (6, 6)\n"
          ]
        }
      ]
    },
    {
      "cell_type": "code",
      "source": [
        "x = 3\n",
        "print(f\"3) linha {x} do dataframe: \\n\", funcionarios_empresa.loc[x])"
      ],
      "metadata": {
        "colab": {
          "base_uri": "https://localhost:8080/"
        },
        "id": "CK-YeuZPYZV0",
        "outputId": "58e99f0f-69ee-46a7-fc18-aaea6cd7b7a3"
      },
      "execution_count": 31,
      "outputs": [
        {
          "output_type": "stream",
          "name": "stdout",
          "text": [
            "3) linha 3 do dataframe: \n",
            " Nome                          Daniel\n",
            "Cargo                     Assistente\n",
            "Idade                             25\n",
            "Salário                         2500\n",
            "Departamento          Administrativo\n",
            "Experiência (anos)                 2\n",
            "Name: 3, dtype: object\n"
          ]
        }
      ]
    },
    {
      "cell_type": "code",
      "source": [
        "print(\"4) Verificar se o DataFrame está vazio\")\n",
        "if funcionarios_empresa.empty:\n",
        "  print(\"está vazio\")\n",
        "else:\n",
        "  print(\"não está vazio\")"
      ],
      "metadata": {
        "colab": {
          "base_uri": "https://localhost:8080/"
        },
        "id": "Ai7_h6ucZihj",
        "outputId": "b8c502a4-4c56-45e1-8eb5-22814dedcaad"
      },
      "execution_count": 32,
      "outputs": [
        {
          "output_type": "stream",
          "name": "stdout",
          "text": [
            "4) Verificar se o DataFrame está vazio\n",
            "não está vazio\n"
          ]
        }
      ]
    },
    {
      "cell_type": "code",
      "source": [
        "print(\"5) Os 5 primeiros registros do Dataframe\")\n",
        "print(funcionarios_empresa.head(5))"
      ],
      "metadata": {
        "colab": {
          "base_uri": "https://localhost:8080/"
        },
        "id": "usPdocl_aFJC",
        "outputId": "04b0983e-ff33-4d1d-c94a-9a66f49ac6e2"
      },
      "execution_count": 33,
      "outputs": [
        {
          "output_type": "stream",
          "name": "stdout",
          "text": [
            "5) Os 5 primeiros registros do Dataframe\n",
            "     Nome       Cargo  Idade  Salário    Departamento  Experiência (anos)\n",
            "0     Ana     Gerente     35     5000              RH                   8\n",
            "1    Beto    Analista     28     3500              TI                   4\n",
            "2   Carla    Analista     30     3500              TI                   6\n",
            "3  Daniel  Assistente     25     2500  Administrativo                   2\n",
            "4     Eva     Gerente     40     5500              RH                  10\n"
          ]
        }
      ]
    },
    {
      "cell_type": "code",
      "source": [
        "print(\"6) excluindo uma linha\")\n",
        "print(funcionarios_empresa.drop(2))"
      ],
      "metadata": {
        "colab": {
          "base_uri": "https://localhost:8080/"
        },
        "id": "xQbhxWXSbuA-",
        "outputId": "ac6661c4-b6bc-4ba6-911b-43329827d096"
      },
      "execution_count": 34,
      "outputs": [
        {
          "output_type": "stream",
          "name": "stdout",
          "text": [
            "6) excluindo uma linha\n",
            "     Nome       Cargo  Idade  Salário    Departamento  Experiência (anos)\n",
            "0     Ana     Gerente     35     5000              RH                   8\n",
            "1    Beto    Analista     28     3500              TI                   4\n",
            "3  Daniel  Assistente     25     2500  Administrativo                   2\n",
            "4     Eva     Gerente     40     5500              RH                  10\n",
            "5   Fábio    Analista     32     3800              TI                   5\n"
          ]
        }
      ]
    },
    {
      "cell_type": "code",
      "source": [
        "novo_item = ['Matheus', 'Estagiário', 22, 1000, 'TI', 1]\n",
        "funcionarios_empresa.loc[len(funcionarios_empresa)] = novo_item\n",
        "print(\"7) DataFrame com mais um item: \\n\", funcionarios_empresa)"
      ],
      "metadata": {
        "colab": {
          "base_uri": "https://localhost:8080/"
        },
        "id": "tP_SYc1UchcA",
        "outputId": "e77a6dd6-77bf-4772-9101-507b888fb049"
      },
      "execution_count": 35,
      "outputs": [
        {
          "output_type": "stream",
          "name": "stdout",
          "text": [
            "7) DataFrame com mais um item: \n",
            "       Nome       Cargo  Idade  Salário    Departamento  Experiência (anos)\n",
            "0      Ana     Gerente     35     5000              RH                   8\n",
            "1     Beto    Analista     28     3500              TI                   4\n",
            "2    Carla    Analista     30     3500              TI                   6\n",
            "3   Daniel  Assistente     25     2500  Administrativo                   2\n",
            "4      Eva     Gerente     40     5500              RH                  10\n",
            "5    Fábio    Analista     32     3800              TI                   5\n",
            "6  Matheus  Estagiário     22     1000              TI                   1\n"
          ]
        }
      ]
    },
    {
      "cell_type": "code",
      "source": [
        "transposto = funcionarios_empresa.T\n",
        "print(\"8) DataFrame transposto:\\n\", transposto)"
      ],
      "metadata": {
        "colab": {
          "base_uri": "https://localhost:8080/"
        },
        "id": "fGm4rV5dBuqx",
        "outputId": "3843f26b-951a-4d94-b499-a72dbf023172"
      },
      "execution_count": 42,
      "outputs": [
        {
          "output_type": "stream",
          "name": "stdout",
          "text": [
            "8) DataFrame transposto:\n",
            "                           0         1         2               3        4  \\\n",
            "Nome                    Ana      Beto     Carla          Daniel      Eva   \n",
            "Cargo               Gerente  Analista  Analista      Assistente  Gerente   \n",
            "Idade                    35        28        30              25       40   \n",
            "Salário                5000      3500      3500            2500     5500   \n",
            "Departamento             RH        TI        TI  Administrativo       RH   \n",
            "Experiência (anos)        8         4         6               2       10   \n",
            "\n",
            "                           5           6  \n",
            "Nome                   Fábio     Matheus  \n",
            "Cargo               Analista  Estagiário  \n",
            "Idade                     32          22  \n",
            "Salário                 3800        1000  \n",
            "Departamento              TI          TI  \n",
            "Experiência (anos)         5           1  \n"
          ]
        }
      ]
    },
    {
      "cell_type": "code",
      "source": [
        "print(\"9) mostrando primeira e segunda coluna: \\n\", funcionarios_empresa.iloc[:, 0:2])"
      ],
      "metadata": {
        "colab": {
          "base_uri": "https://localhost:8080/"
        },
        "id": "mTJWT6f7iPYa",
        "outputId": "db819076-89ea-4437-f732-9adf5566e9a0"
      },
      "execution_count": 47,
      "outputs": [
        {
          "output_type": "stream",
          "name": "stdout",
          "text": [
            "9) mostrando primeira e segunda coluna: \n",
            "       Nome       Cargo\n",
            "0      Ana     Gerente\n",
            "1     Beto    Analista\n",
            "2    Carla    Analista\n",
            "3   Daniel  Assistente\n",
            "4      Eva     Gerente\n",
            "5    Fábio    Analista\n",
            "6  Matheus  Estagiário\n"
          ]
        }
      ]
    },
    {
      "cell_type": "code",
      "source": [
        "descricao_projeto = \"\"\"O projeto foi desenvolvido utilizando a biblioteca pandas para manipulação de dados em Python.\n",
        "Primeiro, criamos um dataframe de amostra com várias colunas e linhas. Então nós realizamos\n",
        "operações solicitadas: exibição completa do DataFrame, apresentação de tamanho, acesso a um\n",
        "linha específica, verifique se o DataFrame está vazio, exiba os primeiros registros, exclua\n",
        "e adicionar linhas, transpor um DataFrame e exibir colunas específicas. Principal\n",
        "As ferramentas utilizadas foram funções do pandas para manipular frames de dados. O maior desafio\n",
        "era garantir que todas as operações fossem realizadas corretamente e que os resultados fossem como tais\n",
        "claramente apresentado.\"\"\"\n",
        "\n",
        "print(\"10) Desenvolvimento do projeto: \\n\\n\", descricao_projeto)"
      ],
      "metadata": {
        "colab": {
          "base_uri": "https://localhost:8080/"
        },
        "id": "dKJD-S_ojZ_N",
        "outputId": "3286ad5f-4497-4b4f-ce3a-c63b2ab97339"
      },
      "execution_count": 52,
      "outputs": [
        {
          "output_type": "stream",
          "name": "stdout",
          "text": [
            "10) Desenvolvimento do projeto: \n",
            "\n",
            " O projeto foi desenvolvido utilizando a biblioteca pandas para manipulação de dados em Python.\n",
            "Primeiro, criamos um dataframe de amostra com várias colunas e linhas. Então nós realizamos\n",
            "operações solicitadas: exibição completa do DataFrame, apresentação de tamanho, acesso a um\n",
            "linha específica, verifique se o DataFrame está vazio, exiba os primeiros registros, exclua\n",
            "e adicionar linhas, transpor um DataFrame e exibir colunas específicas. Principal\n",
            "As ferramentas utilizadas foram funções do pandas para manipular frames de dados. O maior desafio\n",
            "era garantir que todas as operações fossem realizadas corretamente e que os resultados fossem como tais\n",
            "claramente apresentado.\n"
          ]
        }
      ]
    }
  ]
}